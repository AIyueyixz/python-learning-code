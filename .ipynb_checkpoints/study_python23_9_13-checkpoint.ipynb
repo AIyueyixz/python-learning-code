{
 "cells": [
  {
   "cell_type": "code",
   "execution_count": 1,
   "id": "51bb11c3",
   "metadata": {},
   "outputs": [
    {
     "name": "stdout",
     "output_type": "stream",
     "text": [
      "人生苦短，我用Python <class 'str'>\n",
      "人生苦短，我用Python <class 'str'>\n",
      "人生苦短，我用Python <class 'str'>\n",
      "人生苦短，\n",
      "我用Python <class 'str'>\n"
     ]
    }
   ],
   "source": [
    "#字符串又被称为不可变的符号序列\n",
    "# 可以用单引号，双引号，三引号来表示\n",
    "# 单引号和双引号定义的字符串必须在同一行\n",
    "# 三引号定义的字符串可以分布在连续的多行\n",
    "str1='人生苦短，我用Python'\n",
    "str2='人生苦短，我用Python'\n",
    "str3='人生苦短，我用Python'\n",
    "str5=\"\"\"人生苦短，\n",
    "我用Python\"\"\"\n",
    "print(str1,type(str1))\n",
    "print(str2,type(str2))\n",
    "print(str3,type(str3))\n",
    "print(str5,type(str5))"
   ]
  },
  {
   "cell_type": "code",
   "execution_count": 3,
   "id": "31963702",
   "metadata": {},
   "outputs": [
    {
     "name": "stdout",
     "output_type": "stream",
     "text": [
      "我叫张三,今年20岁\n",
      "124 <class 'int'>\n",
      "98 <class 'int'>\n",
      "1 <class 'int'>\n"
     ]
    }
   ],
   "source": [
    "name='张三'\n",
    "age=20\n",
    "print('我叫'+name+','+'今年'+str(age)+'岁')\n",
    "\n",
    "s1='124'\n",
    "print(int(s1),type(int(s1)))#将str转化为int类型，字符串为数字串\n",
    "f1=98.7\n",
    "print(int(f1),type(int(f1)))#将float转化为int，取整数，舍弃小数部分\n",
    "# s2='76.77'\n",
    "# print(int(s2),type(int(s2)))#error,因为字符串为小数串\n",
    "ff=True\n",
    "print(int(ff),type(int(ff)))\n",
    "# s3='hello'\n",
    "# print(int(s3),type(int(s3)))#error,字符串必须为数字串(整数）"
   ]
  },
  {
   "cell_type": "code",
   "execution_count": 5,
   "id": "92f17df8",
   "metadata": {},
   "outputs": [
    {
     "name": "stdout",
     "output_type": "stream",
     "text": [
      "<class 'str'> <class 'str'> <class 'bool'> <class 'str'> <class 'int'>\n",
      "128.98 <class 'float'>\n",
      "76.0 <class 'float'>\n",
      "1.0 <class 'float'>\n"
     ]
    }
   ],
   "source": [
    "s1='128.98'\n",
    "s2='76'\n",
    "ff=True\n",
    "s3='hello'\n",
    "i=98\n",
    "print(type(s1),type(s2),type(ff),type(s3),type(i))\n",
    "print(float(s1),type(float(s1)))\n",
    "print(float(s2),type(float(s2)))\n",
    "print(float(ff),type(float(ff)))\n",
    "# print(float(s3),type(float(s3)))#报错，如果字符串中的数据是非数字类，则不允许转换"
   ]
  },
  {
   "cell_type": "markdown",
   "id": "1d60740c",
   "metadata": {},
   "source": [
    "# 输入函数input函数"
   ]
  },
  {
   "cell_type": "code",
   "execution_count": 4,
   "id": "9cea0801",
   "metadata": {},
   "outputs": [
    {
     "name": "stdout",
     "output_type": "stream",
     "text": [
      "大圣想要什么礼物呢？定海神针\n",
      "定海神针 <class 'str'>\n"
     ]
    }
   ],
   "source": [
    "present=input('大圣想要什么礼物呢？')\n",
    "print(present,type(present))"
   ]
  },
  {
   "cell_type": "code",
   "execution_count": 8,
   "id": "a6ce6b0a",
   "metadata": {},
   "outputs": [
    {
     "name": "stdout",
     "output_type": "stream",
     "text": [
      "请输入一个加数：10\n",
      "请输入另一个加数：20\n",
      "<class 'int'> <class 'int'>\n",
      "30\n"
     ]
    }
   ],
   "source": [
    "a=int(input(\"请输入一个加数：\"))\n",
    "a=int(a) #将转换后的结果存储在a中\n",
    "b=int(input(\"请输入另一个加数：\"))\n",
    "b=int(b) #将转换后的结果存储在b中\n",
    "print(type(a),type(b))\n",
    "print(a+b)"
   ]
  },
  {
   "cell_type": "markdown",
   "id": "da604013",
   "metadata": {},
   "source": [
    "# 常用运算符"
   ]
  },
  {
   "cell_type": "code",
   "execution_count": 13,
   "id": "b98ed556",
   "metadata": {},
   "outputs": [
    {
     "name": "stdout",
     "output_type": "stream",
     "text": [
      "2\n",
      "0\n",
      "8\n",
      "0.5\n",
      "5\n",
      "1\n",
      "4\n",
      "2\n",
      "2\n",
      "-3\n",
      "-3\n",
      "-3\n"
     ]
    }
   ],
   "source": [
    "print(1+1) #加法运算\n",
    "print(1-1) #减法运算\n",
    "print(2*4) #乘法运算\n",
    "print(1/2) #除法运算\n",
    "print(11//2) #整除运算\n",
    "print(11%2) #取模运算\n",
    "print(2**2) #表示的是2的3次方\n",
    "#\"//\"运算遵循向下取整\n",
    "print(9//4) #2\n",
    "print(-9//-4) #2\n",
    "print(9//-4) #-3\n",
    "print(-9//4) #-3\n",
    "print(9%-4)#公式 余数=被除数-除数*商，即9-（-4）*（-3）=-3"
   ]
  },
  {
   "cell_type": "markdown",
   "id": "b7b9fa14",
   "metadata": {},
   "source": [
    "# 赋值运算符"
   ]
  },
  {
   "cell_type": "code",
   "execution_count": 28,
   "id": "cd2a3705",
   "metadata": {},
   "outputs": [
    {
     "name": "stdout",
     "output_type": "stream",
     "text": [
      "20 140716567795080\n",
      "20 140716567795080\n",
      "20 140716567795080\n",
      "<class 'float'>\n",
      "1.0\n",
      "20 30 40\n",
      "交换之前： 10 20\n",
      "交换之后： 20 10\n"
     ]
    }
   ],
   "source": [
    "#赋值运算符从右往左进行\n",
    "#支持链式赋值,但内存中只有一个对象\n",
    "a=b=c=20\n",
    "print(a,id(a))\n",
    "print(b,id(b))\n",
    "print(c,id(c))\n",
    "#支持参数赋值\n",
    "a=20\n",
    "a+=30\n",
    "a-=10\n",
    "a*=2\n",
    "a/=3\n",
    "print(type(a))\n",
    "a//=2\n",
    "a%=3\n",
    "print(a)\n",
    "#支持系列解包赋值\n",
    "a,b,c=20,30,40\n",
    "print(a,b,c)\n",
    "#交换两个变量的值\n",
    "a,b=10,20\n",
    "print(\"交换之前：\",a,b)\n",
    "a,b=b,a\n",
    "print(\"交换之后：\",a,b)"
   ]
  },
  {
   "cell_type": "markdown",
   "id": "64e5042e",
   "metadata": {},
   "source": [
    "# 比较运算符：对变量或表达式的结果进行大小、真假等比较"
   ]
  },
  {
   "cell_type": "code",
   "execution_count": 39,
   "id": "cc68d978",
   "metadata": {},
   "outputs": [
    {
     "name": "stdout",
     "output_type": "stream",
     "text": [
      "a>b吗？ False\n",
      "a<b吗？ True\n",
      "a<=b吗？ True\n",
      "a>=b吗？ False\n",
      "a=b吗？ False\n",
      "a!=b吗？ True\n",
      "True\n",
      "True\n",
      "True\n",
      "False\n",
      "2057977833472\n",
      "2057977833216\n",
      "False\n",
      "True\n"
     ]
    }
   ],
   "source": [
    "a,b=10,20\n",
    "print('a>b吗？',a>b)\n",
    "print('a<b吗？',a<b)\n",
    "print('a<=b吗？',a<=b)\n",
    "print('a>=b吗？',a>=b)\n",
    "print('a=b吗？',a==b)\n",
    "print('a!=b吗？',a!=b)\n",
    "#一个'=''是赋值运算符，==为比较运算符\n",
    "#一个变量由三部分组成，标识(id),类型(class),值(value)\n",
    "#==比较的是值还是标识呢？比较的是值\n",
    "a=10\n",
    "b=10\n",
    "print(a==b) #说明a与b的value相等\n",
    "print(a is b) #说明a与b的id标识相等\n",
    "lst1=[11,22,33,44]\n",
    "lst2=[11,22,33,44]\n",
    "print(lst1==lst2)\n",
    "print(lst1 is lst2)\n",
    "print(id(lst1))\n",
    "print(id(lst2))\n",
    "print(a is not b)\n",
    "print(lst1 is not lst2)"
   ]
  },
  {
   "cell_type": "markdown",
   "id": "cad3db66",
   "metadata": {},
   "source": [
    "# 布尔运算符"
   ]
  },
  {
   "cell_type": "code",
   "execution_count": 47,
   "id": "33c6116b",
   "metadata": {},
   "outputs": [
    {
     "name": "stdout",
     "output_type": "stream",
     "text": [
      "True\n",
      "False\n",
      "False\n",
      "False\n",
      "True\n",
      "True\n",
      "True\n",
      "False\n",
      "False\n",
      "True\n",
      "True\n",
      "False\n",
      "False\n",
      "True\n"
     ]
    }
   ],
   "source": [
    "#and运算符\n",
    "a,b=1,2\n",
    "print(a==1 and b==2)\n",
    "print(a==1 and b<2)\n",
    "print(a!=1 and b==2)\n",
    "print(a!=1 and b!=2)\n",
    "\n",
    "#or运算符\n",
    "print(a==1 or b==2)\n",
    "print(a==1 or b<2)\n",
    "print(a!=1 or b==2)\n",
    "print(a!=1 or b!=2)\n",
    "\n",
    "# not 运算符:对bool类型的值取反\n",
    "f1=True\n",
    "f2=False\n",
    "print(not f1)\n",
    "print(not f2)\n",
    "\n",
    "#in 与 not in\n",
    "s='hello world'\n",
    "print('w' in s)\n",
    "print('k' in s)\n",
    "print('w' not in s)\n",
    "print('k' not in s)"
   ]
  },
  {
   "cell_type": "markdown",
   "id": "d30667eb",
   "metadata": {},
   "source": [
    "# 位运算符"
   ]
  },
  {
   "cell_type": "code",
   "execution_count": 12,
   "id": "b61eda85",
   "metadata": {},
   "outputs": [
    {
     "name": "stdout",
     "output_type": "stream",
     "text": [
      "0\n",
      "12\n",
      "16\n",
      "32\n",
      "4\n",
      "2\n",
      "-5\n"
     ]
    }
   ],
   "source": [
    "print(4&8)\n",
    "print(4|8)\n",
    "#左移位，高位截断，低位补0，相当于×2\n",
    "print(8<<1)\n",
    "print(8<<2)\n",
    "#右移位，高位补0，低位截断，相当于除以2\n",
    "print(8>>1)\n",
    "print(8>>2)\n",
    "print(~4)"
   ]
  },
  {
   "cell_type": "markdown",
   "id": "57601ded",
   "metadata": {},
   "source": [
    "# 运算符的优先级"
   ]
  },
  {
   "cell_type": "markdown",
   "id": "04dc4401",
   "metadata": {},
   "source": [
    "先算括号里面的\n",
    "先算算数运算符，即乘除再算加减，有幂运算先算幂运算\n",
    "再算位运算符，即先左右移位再按位与，再按位或\n",
    "后算比较运算符\n",
    "最后算bool运算符"
   ]
  },
  {
   "cell_type": "markdown",
   "id": "c820b925",
   "metadata": {},
   "source": [
    "# 程序的流程结构"
   ]
  },
  {
   "cell_type": "code",
   "execution_count": 15,
   "id": "5d029f5a",
   "metadata": {},
   "outputs": [
    {
     "name": "stdout",
     "output_type": "stream",
     "text": [
      "1.把冰箱们打开\n",
      "2.把大象放冰箱\n",
      "3.把冰箱门关上\n"
     ]
    }
   ],
   "source": [
    "#把大象装冰箱\n",
    "print(\"1.把冰箱们打开\")\n",
    "print(\"2.把大象放冰箱\")\n",
    "print(\"3.把冰箱门关上\")"
   ]
  },
  {
   "cell_type": "markdown",
   "id": "e468fd5f",
   "metadata": {},
   "source": [
    "python一切皆对象，所有对象都有一个bool值，可以用bool()函数求得"
   ]
  },
  {
   "cell_type": "code",
   "execution_count": 23,
   "id": "b1a3859e",
   "metadata": {},
   "outputs": [
    {
     "name": "stdout",
     "output_type": "stream",
     "text": [
      "False\n",
      "False\n",
      "False\n",
      "False\n",
      "False\n",
      "False\n",
      "False\n",
      "False\n",
      "False\n",
      "False\n",
      "False\n",
      "False\n",
      "False\n",
      "True\n"
     ]
    }
   ],
   "source": [
    "#测试对象的bool值\n",
    "print(bool(False))\n",
    "print(bool(0))\n",
    "print(bool(0.0))\n",
    "print(bool(None))\n",
    "print(bool(''))\n",
    "print(bool(\"\"))\n",
    "print(bool([]))#空列表\n",
    "print(bool(list()))#空列表\n",
    "print(bool(()))#空元组\n",
    "print(bool(tuple()))#空元组\n",
    "print(bool({}))#空字典\n",
    "print(bool(dict()))#空字典\n",
    "print(bool(set()))#空集合\n",
    "#除以上对象以外，其它均为True\n",
    "print(bool('hello world'))"
   ]
  },
  {
   "cell_type": "markdown",
   "id": "c6304486",
   "metadata": {},
   "source": [
    "# 选择结构"
   ]
  },
  {
   "cell_type": "code",
   "execution_count": 3,
   "id": "ea1ec5f7",
   "metadata": {},
   "outputs": [
    {
     "name": "stdout",
     "output_type": "stream",
     "text": [
      "请输入取款金额10\n",
      "取款成功，余额为 990\n"
     ]
    }
   ],
   "source": [
    "#单分支结构\n",
    "money=1000\n",
    "s=int(input(\"请输入取款金额\"))\n",
    "if money>=s:\n",
    "    money-=s\n",
    "    print(\"取款成功，余额为\",money)"
   ]
  },
  {
   "cell_type": "code",
   "execution_count": 1,
   "id": "5fdc67a4",
   "metadata": {},
   "outputs": [
    {
     "name": "stdout",
     "output_type": "stream",
     "text": [
      "请输入一个整数20\n",
      "num是偶数\n"
     ]
    }
   ],
   "source": [
    "#双分支结构\n",
    "num=int(input(\"请输入一个整数\"))\n",
    "if num%2==0:\n",
    "    print(\"num是偶数\")\n",
    "else:\n",
    "    print(\"num是奇数\")"
   ]
  },
  {
   "cell_type": "code",
   "execution_count": 6,
   "id": "d2c45324",
   "metadata": {},
   "outputs": [
    {
     "name": "stdout",
     "output_type": "stream",
     "text": [
      "请输入一个成绩101\n",
      "输入不合法\n"
     ]
    }
   ],
   "source": [
    "#多分支结构\n",
    "score=int(input(\"请输入一个成绩\"))\n",
    "if 90<=score<=100:\n",
    "    print(\"A\")\n",
    "elif 80<=score<=89:\n",
    "    print(\"B\")\n",
    "elif 70<=score<=79:\n",
    "    print(\"C\")\n",
    "elif 60<=score<=69:\n",
    "    print(\"D\")\n",
    "elif 0<=score<=59:\n",
    "    print(\"E\")\n",
    "else:\n",
    "    print(\"输入不合法\")"
   ]
  },
  {
   "cell_type": "code",
   "execution_count": 13,
   "id": "48bc015c",
   "metadata": {},
   "outputs": [
    {
     "name": "stdout",
     "output_type": "stream",
     "text": [
      "您是会员吗？y/nn\n",
      "请输入您的购物金额：180\n",
      "不打折，付款金额为： 180.0\n"
     ]
    }
   ],
   "source": [
    "#嵌套if结构\n",
    "answer=input(\"您是会员吗？y/n\")\n",
    "money=float(input(\"请输入您的购物金额：\"))\n",
    "if answer=='y':#会员\n",
    "    if money>=200:\n",
    "        print(\"打8折，付款金额为：\",money*0.8)\n",
    "    elif money>=100:\n",
    "        print(\"打9折，付款金额为：\",money*0.9)\n",
    "    else:\n",
    "        print(\"不打折，付款金额为：\",money)\n",
    "else:#非会员\n",
    "    if money>=200:\n",
    "        print('打9.5折,付款金额为：',money*0.95)\n",
    "    else:\n",
    "        print('不打折，付款金额为：',money)"
   ]
  },
  {
   "cell_type": "code",
   "execution_count": 3,
   "id": "60482d10",
   "metadata": {},
   "outputs": [
    {
     "name": "stdout",
     "output_type": "stream",
     "text": [
      "请输入一个整数10\n",
      "请输入第二个整数20\n",
      "10小于等于20\n"
     ]
    }
   ],
   "source": [
    "num1=int(input(\"请输入一个整数\"))\n",
    "num2=int(input(\"请输入第二个整数\"))\n",
    "# if num1>num2:\n",
    "#     print(num1,'大于',num2)\n",
    "# else:\n",
    "#     print(num1,'小于等于',num2)\n",
    "print(str(num1)+'大于'+str(num2) if num1>num2 else str(num1)+\"小于等于\"+str(num2))"
   ]
  },
  {
   "cell_type": "code",
   "execution_count": 6,
   "id": "489d47dd",
   "metadata": {},
   "outputs": [
    {
     "name": "stdout",
     "output_type": "stream",
     "text": [
      "您是会员吗y/ny\n"
     ]
    }
   ],
   "source": [
    "#pass语句：语句什么都不做，只是一个占位符，用在语法上需要语句的地方\n",
    "# 什么时候使用：先搭建语法结构，还没想好代码怎么写的时候\n",
    "answer=input(\"您是会员吗y/n\")\n",
    "if(answer=='y'):\n",
    "    pass\n",
    "else:\n",
    "    pass"
   ]
  },
  {
   "cell_type": "code",
   "execution_count": 9,
   "id": "71108202",
   "metadata": {},
   "outputs": [
    {
     "name": "stdout",
     "output_type": "stream",
     "text": [
      "请输入您的年龄：18\n",
      "18\n"
     ]
    }
   ],
   "source": [
    "age=int(input(\"请输入您的年龄：\"))\n",
    "if age:\n",
    "    print(age)\n",
    "else:\n",
    "    print(\"年龄为\",age)"
   ]
  },
  {
   "cell_type": "code",
   "execution_count": 15,
   "id": "7d3b3e10",
   "metadata": {},
   "outputs": [
    {
     "name": "stdout",
     "output_type": "stream",
     "text": [
      "range(0, 10)\n",
      "[0, 1, 2, 3, 4, 5, 6, 7, 8, 9]\n",
      "[1, 2, 3, 4, 5, 6, 7, 8, 9]\n",
      "[1, 3, 5, 7, 9]\n",
      "False\n",
      "True\n",
      "True\n",
      "False\n"
     ]
    }
   ],
   "source": [
    "#range函数\n",
    "# 用于生成一个整数序列\n",
    "r=range(10)#range(0,10)——>range(stop)\n",
    "print(r)\n",
    "print(list(r))#可以查看range对象的整数序列\n",
    "r=range(1,10)#range(start,stop),默认步长为1\n",
    "print(list(r))\n",
    "r=range(1,10,2)#range(start,stop,step)\n",
    "print(list(r))\n",
    "print(10 in r)\n",
    "print(9 in r)\n",
    "print(10 not in r)\n",
    "print(9 not in r)"
   ]
  },
  {
   "cell_type": "markdown",
   "id": "84575023",
   "metadata": {},
   "source": [
    "# 循环结构"
   ]
  },
  {
   "cell_type": "code",
   "execution_count": 8,
   "id": "e9779d2c",
   "metadata": {},
   "outputs": [
    {
     "name": "stdout",
     "output_type": "stream",
     "text": [
      "1\n",
      "2\n",
      "3\n",
      "4\n",
      "5\n",
      "6\n",
      "7\n",
      "8\n",
      "9\n",
      "1~100的偶数和: 10\n"
     ]
    }
   ],
   "source": [
    "# while循环\n",
    "a=1\n",
    "while a<10:\n",
    "    print(a)\n",
    "    a+=1\n",
    "# 计算0~4的累加和\n",
    "# 四步循环法\n",
    "# 1.初始化变量\n",
    "# 2.条件判断\n",
    "# 3.条件执行体(循环体)\n",
    "# 4.改变变量\n",
    "sum=0\n",
    "a=0\n",
    "while a<=4:\n",
    "    sum+=a\n",
    "    a+=1\n",
    "print('1~100的偶数和:',sum)"
   ]
  },
  {
   "cell_type": "code",
   "execution_count": 4,
   "id": "13c7b90f",
   "metadata": {},
   "outputs": [
    {
     "name": "stdout",
     "output_type": "stream",
     "text": [
      "2550\n"
     ]
    }
   ],
   "source": [
    "# 计算1~100之间的偶数和\n",
    "sum=0\n",
    "a=1\n",
    "while a<=100:\n",
    "    if not bool(a%2):\n",
    "        sum+=a\n",
    "    a+=1\n",
    "print(sum)"
   ]
  },
  {
   "cell_type": "code",
   "execution_count": 12,
   "id": "91e7f70f",
   "metadata": {},
   "outputs": [
    {
     "name": "stdout",
     "output_type": "stream",
     "text": [
      "P\n",
      "y\n",
      "t\n",
      "h\n",
      "o\n",
      "n\n",
      "0\n",
      "1\n",
      "2\n",
      "3\n",
      "4\n",
      "5\n",
      "6\n",
      "7\n",
      "8\n",
      "9\n",
      "人生苦短，我用Python\n",
      "人生苦短，我用Python\n",
      "人生苦短，我用Python\n",
      "人生苦短，我用Python\n",
      "人生苦短，我用Python\n",
      "2550\n"
     ]
    }
   ],
   "source": [
    "# for in 循环\n",
    "# in 表达从（字符串或序列等）中依次取值，又称为遍历\n",
    "# for-in遍历的对象必须是可迭代对象\n",
    "for item in 'Python':\n",
    "    print(item)\n",
    "for i in range(10):\n",
    "    print(i)\n",
    "for _ in range(5):\n",
    "    print('人生苦短，我用Python')\n",
    "# 使用for循环计算1到100的偶数和\n",
    "sum=0\n",
    "for i in range(2,101,2):\n",
    "    sum+=i\n",
    "print(sum)"
   ]
  },
  {
   "cell_type": "code",
   "execution_count": 3,
   "id": "85c62b84",
   "metadata": {},
   "outputs": [
    {
     "name": "stdout",
     "output_type": "stream",
     "text": [
      "153\n",
      "370\n",
      "371\n",
      "407\n"
     ]
    }
   ],
   "source": [
    "# 输出100到999之间的水仙花数\n",
    "for item in range(100,1000):\n",
    "    ge=item%10      #个位\n",
    "    shi=item//10%10 #十位\n",
    "    bai=item//100   #百位\n",
    "#     print(ge,shi,bai)\n",
    "    if ge**3+shi**3+bai**3==item:\n",
    "        print(item)"
   ]
  },
  {
   "cell_type": "code",
   "execution_count": 6,
   "id": "8730286d",
   "metadata": {},
   "outputs": [
    {
     "name": "stdout",
     "output_type": "stream",
     "text": [
      "请输入密码2222\n",
      "密码错误\n",
      "请输入密码2222\n",
      "密码错误\n",
      "请输入密码8989\n",
      "密码正确\n"
     ]
    }
   ],
   "source": [
    "# break语句,用于结束循环结构\n",
    "# 从键盘录入密码，最多录入3次，如果正确就结束循环\n",
    "# for item in range(3):\n",
    "#     pwd=input(\"请输入密码：\")\n",
    "#     if(pwd=='8888'):\n",
    "#         print(\"密码正确\")\n",
    "#         break;\n",
    "#     else:\n",
    "#         print(\"密码不正确\")\n",
    "# a=0\n",
    "# while a<3:\n",
    "#     pwd=input(\"请输入密码:\")\n",
    "#     if pwd=='8989':\n",
    "#         print(\"密码正确\")\n",
    "#         break\n",
    "#     else:\n",
    "#         print('密码错误')\n",
    "#         a+=1"
   ]
  },
  {
   "cell_type": "code",
   "execution_count": 9,
   "id": "252a5136",
   "metadata": {},
   "outputs": [
    {
     "name": "stdout",
     "output_type": "stream",
     "text": [
      "5\n",
      "10\n",
      "15\n",
      "20\n",
      "25\n",
      "30\n",
      "35\n",
      "40\n",
      "45\n"
     ]
    }
   ],
   "source": [
    "# continue\n",
    "# 用于结束当前循环，进入下一次循环，通常与if仪器使用\n",
    "#输入1道50之间所有5的倍数\n",
    "# for item in range(1,50):\n",
    "#     if item%5!=0:\n",
    "#         continue\n",
    "#     else:\n",
    "#         print(item)\n",
    "for item in range(1,50):\n",
    "    if item%5==0:\n",
    "        print(item)"
   ]
  },
  {
   "cell_type": "code",
   "execution_count": 4,
   "id": "a180967a",
   "metadata": {},
   "outputs": [
    {
     "name": "stdout",
     "output_type": "stream",
     "text": [
      "请输入密码：5555\n",
      "密码输入错误\n",
      "请输入密码：5555\n",
      "密码输入错误\n",
      "请输入密码：5555\n",
      "密码输入错误\n",
      "对不起，三次密码输入错误\n"
     ]
    }
   ],
   "source": [
    "# else语句搭配for循环\n",
    "# for item in range(3):\n",
    "#     pwd=input('请输入密码:')\n",
    "#     if pwd=='8888':\n",
    "#         print('密码正确')\n",
    "#         break\n",
    "#     else:\n",
    "#         print(\"密码不正确\")\n",
    "# else:\n",
    "#     print(\"对不起，三次密码均输入错误\")\n",
    "# else语句搭配while循环\n",
    "a=0\n",
    "while a<3:\n",
    "    pwd=input(\"请输入密码：\")\n",
    "    if pwd=='8888':\n",
    "        print(\"密码输入正确\")\n",
    "        break\n",
    "    else:\n",
    "        print(\"密码输入错误\")\n",
    "    a+=1\n",
    "else:\n",
    "    print(\"对不起，三次密码输入错误\")"
   ]
  },
  {
   "cell_type": "code",
   "execution_count": 10,
   "id": "661529ad",
   "metadata": {},
   "outputs": [
    {
     "name": "stdout",
     "output_type": "stream",
     "text": [
      "*\t*\t*\t*\t\n",
      "*\t*\t*\t*\t\n",
      "*\t*\t*\t*\t\n"
     ]
    }
   ],
   "source": [
    "# 嵌套循环\n",
    "# 输出一个三行四列的矩形\n",
    "for i in range(1,4):\n",
    "    for j in range(1,5):\n",
    "        print(\"*\",end='\\t')\n",
    "    print()"
   ]
  },
  {
   "cell_type": "code",
   "execution_count": 15,
   "id": "feefc2f1",
   "metadata": {},
   "outputs": [
    {
     "name": "stdout",
     "output_type": "stream",
     "text": [
      "1 * 1 = 1\t\n",
      "2 * 1 = 2\t2 * 2 = 4\t\n",
      "3 * 1 = 3\t3 * 2 = 6\t3 * 3 = 9\t\n",
      "4 * 1 = 4\t4 * 2 = 8\t4 * 3 = 12\t4 * 4 = 16\t\n",
      "5 * 1 = 5\t5 * 2 = 10\t5 * 3 = 15\t5 * 4 = 20\t5 * 5 = 25\t\n",
      "6 * 1 = 6\t6 * 2 = 12\t6 * 3 = 18\t6 * 4 = 24\t6 * 5 = 30\t6 * 6 = 36\t\n",
      "7 * 1 = 7\t7 * 2 = 14\t7 * 3 = 21\t7 * 4 = 28\t7 * 5 = 35\t7 * 6 = 42\t7 * 7 = 49\t\n",
      "8 * 1 = 8\t8 * 2 = 16\t8 * 3 = 24\t8 * 4 = 32\t8 * 5 = 40\t8 * 6 = 48\t8 * 7 = 56\t8 * 8 = 64\t\n",
      "9 * 1 = 9\t9 * 2 = 18\t9 * 3 = 27\t9 * 4 = 36\t9 * 5 = 45\t9 * 6 = 54\t9 * 7 = 63\t9 * 8 = 72\t9 * 9 = 81\t\n"
     ]
    }
   ],
   "source": [
    "# 打印9*9乘法表\n",
    "for i in range(1,10):\n",
    "    for j in range(1,i+1):\n",
    "        print(i,'*',j,'=',i*j,end='\\t')\n",
    "    print()"
   ]
  },
  {
   "cell_type": "code",
   "execution_count": 18,
   "id": "6941abe4",
   "metadata": {},
   "outputs": [
    {
     "name": "stdout",
     "output_type": "stream",
     "text": [
      "1\t3\t5\t7\t9\t\n",
      "1\t3\t5\t7\t9\t\n",
      "1\t3\t5\t7\t9\t\n",
      "1\t3\t5\t7\t9\t\n",
      "1\t3\t5\t7\t9\t\n"
     ]
    }
   ],
   "source": [
    "# 二重循环中break和continue\n",
    "for i in range(5):\n",
    "    for j in range(1,11):\n",
    "        if j%2==0:\n",
    "            continue\n",
    "        print(j,end=\"\\t\")\n",
    "    print()"
   ]
  },
  {
   "cell_type": "code",
   "execution_count": 5,
   "id": "e3d1d1fd",
   "metadata": {},
   "outputs": [
    {
     "name": "stdout",
     "output_type": "stream",
     "text": [
      "2414962750912\n",
      "<class 'list'>\n",
      "['hello', 'world', 98]\n",
      "['hello', 'world', 98]\n",
      "hello hello\n"
     ]
    }
   ],
   "source": [
    "# id\n",
    "# type\n",
    "# value\n",
    "# a=10 在内存中存的是id\n",
    "lst=['hello','world',98]\n",
    "print(id(lst))\n",
    "print(type(lst))\n",
    "print(lst)\n",
    "# 列表的创建\n",
    "lst=['hello','world',98]\n",
    "lst2=list(['hello','world',98])\n",
    "# 列表的特点\n",
    "# 列表元素有序\n",
    "print(lst)\n",
    "# 索引映射唯一一个数据\n",
    "print(lst[0],lst[-3])\n",
    "# 列表可以存储重复数据\n",
    "# 任意数据类型混用\n",
    "# 根据需要动态分配和回收内存"
   ]
  },
  {
   "cell_type": "code",
   "execution_count": 1,
   "id": "9a695d66",
   "metadata": {},
   "outputs": [
    {
     "name": "stdout",
     "output_type": "stream",
     "text": [
      "0\n",
      "3\n",
      "98\n",
      "hello\n",
      "原列表 2577926794880\n",
      "切的片段 2577926794432\n",
      "[20, 30, 40, 50, 60]\n",
      "[20, 30, 40, 50, 60]\n",
      "[20, 40, 60]\n",
      "[10, 30, 50]\n",
      "[20, 40, 60, 80]\n",
      "[80, 70, 60, 50, 40, 30, 20, 10]\n",
      "[80, 70, 60, 50, 40, 30, 20, 10]\n",
      "[70, 50, 30]\n"
     ]
    }
   ],
   "source": [
    "# 如何获取列表中指定元素的索引——通过index()方法\n",
    "lst=['hello','world','98','hello']\n",
    "print(lst.index('hello'))#如果列表中有相同元素，只返回列表元素的第一个元素的索引\n",
    "# 还可以在指定位置start和stop之间进行寻找\n",
    "# print(lst.index('hello',1,3))# ValueError: 'hello' is not in list\n",
    "print(lst.index('hello',1,4))\n",
    "\n",
    "# 获取列表中的单个元素\n",
    "# 正向索引，逆向索引\n",
    "lst=['hello','world','98','hello','world','234']\n",
    "print(lst[2])\n",
    "print(lst[-3])\n",
    "# print(lst[10])# IndexError: list index out of range\n",
    "\n",
    "\n",
    "# 获取列表中的多个元素\n",
    "# 语法:[start:stop:step]\n",
    "# 切片的结果为原列表片段的拷贝\n",
    "# 切片的范围是[start,stop)\n",
    "# step 默认为1\n",
    "# step为正数：[:stop:step]:切片的第一个元素默认是列表的第一个元素\n",
    "# step为正数：[start::step]:切片的最后一个元素默认是列表的最后一个元素\n",
    "# step为负数：[:stop:step]:切片的第一个元素默认是列表的最后一个元素\n",
    "# step为负数：[start::step]:切片的最后一个元素默认是列表的第一个元素\n",
    "\n",
    "lst=[10,20,30,40,50,60,70,80]\n",
    "lst1=lst[1:6:1]\n",
    "# print(lst[1:6:1])\n",
    "print('原列表',id(lst))\n",
    "print('切的片段',id(lst1))\n",
    "print(lst[1:6])\n",
    "print(lst[1:6:])\n",
    "print(lst[1:6:2])\n",
    "print(lst[:6:2])\n",
    "print(lst[1::2])\n",
    "print(lst[::-1])\n",
    "print(lst[7::-1])\n",
    "print(lst[6:0:-2])"
   ]
  },
  {
   "cell_type": "code",
   "execution_count": 12,
   "id": "7899b156",
   "metadata": {},
   "outputs": [
    {
     "name": "stdout",
     "output_type": "stream",
     "text": [
      "True\n",
      "False\n",
      "True\n",
      "10\n",
      "20\n",
      "python\n",
      "hello\n",
      "2577940145792\n",
      "[10, 20, 'python', 'hello', 100]\n",
      "2577940145792\n",
      "[10, 20, 'python', 'hello', 100, 'hello', 'world']\n",
      "[10, 90, 20, 'python', 'hello', 100, 'hello', 'world']\n",
      "[10, True, False, 'hello', 100, 'hello', 'world']\n"
     ]
    }
   ],
   "source": [
    "# 判断指定元素在列表中是否存在\n",
    "lst=[10,20,'python','hello']\n",
    "print(10 in lst)\n",
    "print(10 not in lst)\n",
    "print(100 not in lst)\n",
    "\n",
    "# 列表元素的遍历\n",
    "for item in lst:\n",
    "    print(item)\n",
    "# 列表元素的增加操作\n",
    "# append()在列表的末尾添加一个元素\n",
    "print(id(lst))\n",
    "lst.append(100)\n",
    "print(lst)\n",
    "print(id(lst))\n",
    "# extend()在列表末尾至少添加一个元素\n",
    "lst2=['hello','world']\n",
    "# lst.append(lst2)将lst整体作为一个元素添加到列表末尾\n",
    "lst.extend(lst2)# 将列表的末尾一次性添加多个元素\n",
    "print(lst)\n",
    "# insert()在列表任意位置添加一个元素\n",
    "lst.insert(1,90)# 在1位置添加一个90\n",
    "print(lst)\n",
    "# 切片：在列表的任意位置添加至少一个元素\n",
    "lst3=[True,False,'hello']\n",
    "lst[1:5]=lst3\n",
    "print(lst)"
   ]
  },
  {
   "cell_type": "code",
   "execution_count": 2,
   "id": "1fb27eb2",
   "metadata": {
    "scrolled": true
   },
   "outputs": [
    {
     "name": "stdout",
     "output_type": "stream",
     "text": [
      "[10, 20, 40, 50, 60, 30]\n",
      "[10, 40, 50, 60, 30]\n",
      "[10, 40, 50, 60]\n",
      "原列表 [10, 40, 50, 60]\n",
      "切片后的列表 [40, 50]\n",
      "[10, 60]\n",
      "[]\n"
     ]
    }
   ],
   "source": [
    "# 列表元素的删除操作\n",
    "\n",
    "# remove()一次删除一个元素\n",
    "# 重复元素只删除第一个\n",
    "# 元素不存在抛出ValueError\n",
    "\n",
    "lst=[10,20,30,40,50,60,30]\n",
    "lst.remove(30)\n",
    "print(lst)\n",
    "# lst.remove(100) error\n",
    "\n",
    "# pop()删除一个指定索引位置的元素\n",
    "# 指定索引不存在抛出IndexError\n",
    "# 不指定索引默认删除列表中最后一个元素\n",
    "\n",
    "lst.pop(1)\n",
    "print(lst)\n",
    "# lst.pop(5) error\n",
    "lst.pop()\n",
    "print(lst)\n",
    "\n",
    "# 切片：一次至少删除一个元素，将产生一个新的列表对象\n",
    "new_lst=lst[1:3]\n",
    "print('原列表',lst)\n",
    "print('切片后的列表',new_lst)\n",
    "\n",
    "lst[1:3]=[]\n",
    "print(lst)\n",
    "\n",
    "# 清除列表中的所有元素：clear()\n",
    "lst.clear()\n",
    "print(lst)\n",
    "\n",
    "# 清除列表对象\n",
    "del lst\n",
    "# print(lst) name 'lst' is not defined"
   ]
  },
  {
   "cell_type": "code",
   "execution_count": 2,
   "id": "b7f8558f",
   "metadata": {},
   "outputs": [
    {
     "name": "stdout",
     "output_type": "stream",
     "text": [
      "[10, 20, 100, 40]\n",
      "[10, 300, 400, 500, 600, 40]\n"
     ]
    }
   ],
   "source": [
    "# 列表元素的修改操作\n",
    "\n",
    "# 为指定元素赋予一个新值\n",
    "\n",
    "lst=[10,20,30,40]\n",
    "lst[2]=100\n",
    "print(lst)\n",
    "lst[1:3]=[300,400,500,600]\n",
    "print(lst)"
   ]
  },
  {
   "cell_type": "code",
   "execution_count": 8,
   "id": "797b9f19",
   "metadata": {},
   "outputs": [
    {
     "name": "stdout",
     "output_type": "stream",
     "text": [
      "排序前 [20, 40, 10, 98, 54] 2051552989120\n",
      "排序后 [10, 20, 40, 54, 98] 2051552989120\n",
      "[98, 54, 40, 20, 10]\n",
      "[10, 20, 40, 54, 98]\n",
      "---------使用内置函数sorted()对列表进行排序会产生新的对象----------------------\n",
      "[20, 40, 10, 98, 54]\n",
      "[10, 20, 40, 54, 98]\n",
      "[98, 54, 40, 20, 10]\n"
     ]
    }
   ],
   "source": [
    "# 列表元素的排序\n",
    "\n",
    "# 1.调用sort()方法，默认从小到大排序，也\n",
    "# 可指定reverse=True进行降序排序\n",
    "\n",
    "lst=[20,40,10,98,54]\n",
    "print(\"排序前\",lst,id(lst))\n",
    "lst.sort()# 原地操作\n",
    "print('排序后',lst,id(lst))\n",
    "lst.sort(reverse=True)\n",
    "print(lst)\n",
    "lst.sort(reverse=False)\n",
    "print(lst)\n",
    "print(\"---------使用内置函数sorted()对列表进行排序会产生新的对象----------------------\")\n",
    "lst=[20,40,10,98,54]\n",
    "new_lst=sorted(lst)\n",
    "print(lst)\n",
    "print(new_lst)\n",
    "desc_lst=sorted(lst,reverse=True)\n",
    "print(desc_lst)"
   ]
  },
  {
   "cell_type": "code",
   "execution_count": 1,
   "id": "a8e1c848",
   "metadata": {},
   "outputs": [
    {
     "name": "stdout",
     "output_type": "stream",
     "text": [
      "[1, 2, 3, 4, 5, 6, 7, 8, 9]\n",
      "[2, 4, 6, 8, 10]\n"
     ]
    }
   ],
   "source": [
    "# 列表生成式\n",
    "\n",
    "# 语法格式:\n",
    "# [i*i for i in range(1,10)]\n",
    "\n",
    "lst=[i for i in range(1,10)]\n",
    "print(lst)\n",
    "\n",
    "# 列表中的元素为2，4，6，8，10\n",
    "lst=[2*i for i in range(1,6)]\n",
    "print(lst)"
   ]
  },
  {
   "cell_type": "code",
   "execution_count": 4,
   "id": "857a98e9",
   "metadata": {},
   "outputs": [
    {
     "name": "stdout",
     "output_type": "stream",
     "text": [
      "{'张三': 100, '李四': 98, '王五': 45}\n",
      "<class 'dict'>\n",
      "{'name': 'jack', 'age': 20}\n",
      "{}\n"
     ]
    }
   ],
   "source": [
    "# 键值对\n",
    "# 是一个可变序列，以键值对方式存储数据，键不能重复，是一个无序序列\n",
    "# 先通过哈希函数\n",
    "# 字典的创建\n",
    "# 使用花括号创建字典\n",
    "scores={'张三':100,'李四':98,'王五':45}\n",
    "print(scores)\n",
    "print(type(scores))\n",
    "# 使用dict()创建字典\n",
    "student=dict(name='jack',age=20)\n",
    "print(student)\n",
    "# 创建空子典\n",
    "d={}\n",
    "print(d)"
   ]
  }
 ],
 "metadata": {
  "kernelspec": {
   "display_name": "Python 3 (ipykernel)",
   "language": "python",
   "name": "python3"
  },
  "language_info": {
   "codemirror_mode": {
    "name": "ipython",
    "version": 3
   },
   "file_extension": ".py",
   "mimetype": "text/x-python",
   "name": "python",
   "nbconvert_exporter": "python",
   "pygments_lexer": "ipython3",
   "version": "3.11.3"
  }
 },
 "nbformat": 4,
 "nbformat_minor": 5
}
